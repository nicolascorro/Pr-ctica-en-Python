{
 "cells": [
  {
   "cell_type": "markdown",
   "metadata": {},
   "source": [
    "## Ejercicios de Tipos de Datos Simples\n",
    "### Ejercicio 11\n",
    "Imagina que acabas de abrir una nueva cuenta de ahorros que te ofrece el 4% de interés al año. Estos ahorros debido a intereses, que no se cobran hasta finales de año, se te añaden al balance final de tu cuenta de ahorros. Escribir un programa que comience leyendo la cantidad de dinero depositada en la cuenta de ahorros, introducida por el usuario. Después el programa debe calcular y mostrar por pantalla la cantidad de ahorros tras el primer, segundo y tercer años. Redondear cada cantidad a dos decimales.\n",
    "\n",
    "\n"
   ]
  },
  {
   "cell_type": "code",
   "execution_count": 14,
   "metadata": {},
   "outputs": [
    {
     "name": "stdout",
     "output_type": "stream",
     "text": [
      "Cantidad de ahorros\n",
      "Primer año: 1040.0\n",
      "Segundo año: 1081.6\n",
      "Tercer año: 1124.86\n"
     ]
    }
   ],
   "source": [
    "deposito = float(input(\"Dinero a depositar: \"))\n",
    "interes = 0.04\n",
    "num_anios = 3\n",
    "year = []\n",
    "dinero = [deposito]\n",
    "\n",
    "for i in range(num_anios):\n",
    "    year.append(round(dinero[i] * (1 + interes), 2))\n",
    "    dinero.append(year[i])\n",
    "\n",
    "print(\"Cantidad de ahorros\")\n",
    "print(f\"Primer año: {year[0]}\")\n",
    "print(f\"Segundo año: {year[1]}\")\n",
    "print(f\"Tercer año: {year[2]}\")"
   ]
  },
  {
   "cell_type": "markdown",
   "metadata": {},
   "source": [
    "## Ejercicios de Cadenas\n",
    "### Ejercicio 1\n",
    "Escribir un programa que pregunte el nombre del usuario en la consola y un número entero e imprima por pantalla en líneas distintas el nombre del usuario tantas veces como el número introducido.\n",
    "\n",
    "\n"
   ]
  },
  {
   "cell_type": "code",
   "execution_count": 17,
   "metadata": {},
   "outputs": [
    {
     "name": "stdout",
     "output_type": "stream",
     "text": [
      "Nico\n",
      "Nico\n",
      "Nico\n",
      "Nico\n"
     ]
    }
   ],
   "source": [
    "nombre = input(\"Nombre: \")\n",
    "entero = int(input(\"Número entero: \"))\n",
    "\n",
    "for i in range(entero):\n",
    "    print(nombre)"
   ]
  },
  {
   "cell_type": "markdown",
   "metadata": {},
   "source": [
    "### Ejercicio 2\n",
    "Escribir un programa que pregunte el nombre completo del usuario en la consola y después muestre por pantalla el nombre completo del usuario tres veces, una con todas las letras minúsculas, otra con todas las letras mayúsculas y otra solo con la primera letra del nombre y de los apellidos en mayúscula. El usuario puede introducir su nombre combinando mayúsculas y minúsculas como quiera."
   ]
  },
  {
   "cell_type": "code",
   "execution_count": 20,
   "metadata": {},
   "outputs": [
    {
     "name": "stdout",
     "output_type": "stream",
     "text": [
      "gabriel nicolás corro díaz\n",
      "GABRIEL NICOLÁS CORRO DÍAZ\n",
      "Gabriel Nicolás Corro Díaz\n"
     ]
    }
   ],
   "source": [
    "nombre = input(\"Nombre completo: \")\n",
    "\n",
    "print(nombre.lower())\n",
    "print(nombre.upper())\n",
    "print(nombre.title())"
   ]
  },
  {
   "cell_type": "markdown",
   "metadata": {},
   "source": [
    "### Ejercicio 3\n",
    "Escribir un programa que pregunte el nombre del usuario en la consola y después de que el usuario lo introduzca muestre por pantalla `<NOMBRE>` tiene `<n>` letras, donde `<NOMBRE>` es el nombre de usuario en mayúsculas y <n> es el número de letras que tienen el nombre."
   ]
  },
  {
   "cell_type": "code",
   "execution_count": 22,
   "metadata": {},
   "outputs": [
    {
     "name": "stdout",
     "output_type": "stream",
     "text": [
      "Gabriel Nicolás tiene 14 letras.\n"
     ]
    }
   ],
   "source": [
    "nombre = input(\"Nombre: \")\n",
    "\n",
    "nombre_letras = nombre.replace(\" \", \"\")\n",
    "\n",
    "numero_letras = len(nombre_letras)\n",
    "\n",
    "print(f\"{nombre} tiene {numero_letras} letras.\")"
   ]
  },
  {
   "cell_type": "markdown",
   "metadata": {},
   "source": [
    "### Ejercicio 4\n",
    "Los teléfonos de una empresa tienen el siguiente formato `prefijo-número-extensión` donde el prefijo es el código del país `+34`, y la extensión tiene dos dígitos (por ejemplo `+34-913724710-56`). Escribir un programa que pregunte por un número de teléfono con este formato y muestre por pantalla el número de teléfono sin el prefijo y la extensión."
   ]
  },
  {
   "cell_type": "code",
   "execution_count": 24,
   "metadata": {},
   "outputs": [
    {
     "name": "stdout",
     "output_type": "stream",
     "text": [
      "913724710\n"
     ]
    }
   ],
   "source": [
    "telefono = input(\"Teléfono: \")\n",
    "\n",
    "telefono = telefono[4:-3]\n",
    "\n",
    "print(telefono)"
   ]
  },
  {
   "cell_type": "markdown",
   "metadata": {},
   "source": [
    "### Ejercicio 5\n",
    "Escribir un programa que pida al usuario que introduzca una frase en la consola y muestre por pantalla la frase invertida."
   ]
  },
  {
   "cell_type": "code",
   "execution_count": 25,
   "metadata": {},
   "outputs": [
    {
     "name": "stdout",
     "output_type": "stream",
     "text": [
      "?sátse omóc¿ ,aloH\n"
     ]
    }
   ],
   "source": [
    "frase = input(\"Frase: \")\n",
    "invertida = frase[::-1]\n",
    "print(invertida)"
   ]
  },
  {
   "cell_type": "markdown",
   "metadata": {},
   "source": [
    "### Ejercicio 6\n",
    "Escribir un programa que pida al usuario que introduzca una frase en la consola y una vocal, y después muestre por pantalla la misma frase pero con la vocal introducida en mayúscula."
   ]
  },
  {
   "cell_type": "code",
   "execution_count": 1,
   "metadata": {},
   "outputs": [
    {
     "name": "stdout",
     "output_type": "stream",
     "text": [
      "COnexiÓn de redes electrOmagnéticas\n"
     ]
    }
   ],
   "source": [
    "frase = input(\"Frase: \")\n",
    "vocal = input(\"Vocal: \")\n",
    "\n",
    "while(vocal not in 'aeiouAEIOU'):\n",
    "    vocal = input(\"Vocal: \")\n",
    "\n",
    "vocal = vocal.lower()\n",
    "\n",
    "diccionario_tildadas = {\n",
    "    \"a\": \"á\",\n",
    "    \"e\": \"é\",\n",
    "    \"i\": \"í\",\n",
    "    \"o\": \"ó\",\n",
    "    \"u\": \"ú\",\n",
    "}\n",
    "\n",
    "#diccionario.get(clave, valor_por_defecto)\n",
    "vocal_tildada = diccionario_tildadas.get(vocal, vocal)\n",
    "\n",
    "frase = frase.replace(vocal, vocal.upper()).replace(vocal_tildada, vocal_tildada.upper())\n",
    "\n",
    "print(frase)"
   ]
  },
  {
   "cell_type": "markdown",
   "metadata": {},
   "source": [
    "### Ejercicio 7\n",
    "Escribir un programa que pregunte el correo electrónico del usuario en la consola y muestre por pantalla otro correo electrónico con el mismo nombre (la parte delante de la arroba `@`) pero con dominio `ceu.es`."
   ]
  },
  {
   "cell_type": "code",
   "execution_count": 4,
   "metadata": {},
   "outputs": [
    {
     "name": "stdout",
     "output_type": "stream",
     "text": [
      "nicolas.corro@ceu.es\n"
     ]
    }
   ],
   "source": [
    "correo = input(\"Correo electrónico: \")\n",
    "correo = correo.split(\"@\")\n",
    "\n",
    "correo = correo[0] + \"@ceu.es\"\n",
    "\n",
    "print(correo)"
   ]
  },
  {
   "cell_type": "markdown",
   "metadata": {},
   "source": [
    "### Ejercicio 8\n",
    "Escribir un programa que pregunte por consola el precio de un producto en euros con dos decimales y muestre por pantalla el número de euros y el número de céntimos del precio introducido."
   ]
  },
  {
   "cell_type": "code",
   "execution_count": 10,
   "metadata": {},
   "outputs": [
    {
     "name": "stdout",
     "output_type": "stream",
     "text": [
      "34\n",
      "76\n"
     ]
    }
   ],
   "source": [
    "precio = input(\"Precio con 2 decimales: \")\n",
    "precio = precio.split(\".\")\n",
    "euros = precio[0]\n",
    "\n",
    "centimos = precio[1]\n",
    "\n",
    "print(euros)\n",
    "print(centimos)"
   ]
  },
  {
   "cell_type": "markdown",
   "metadata": {},
   "source": [
    "### Ejercicio 9\n",
    "Escribir un programa que pregunte al usuario la fecha de su nacimiento en formato `dd/mm/aaaa` y muestra por pantalla, el día, el mes y el año. Adaptar el programa anterior para que también funcione cuando el día o el mes se introduzcan con un solo carácter."
   ]
  },
  {
   "cell_type": "code",
   "execution_count": 12,
   "metadata": {},
   "outputs": [
    {
     "name": "stdout",
     "output_type": "stream",
     "text": [
      "4 8 1999\n"
     ]
    }
   ],
   "source": [
    "fecha = input(\"Fecha de nacimiento: \")\n",
    "\n",
    "fecha = fecha.split(\"/\")\n",
    "\n",
    "dia = fecha[0]\n",
    "mes = fecha[1]\n",
    "anio = fecha[2]\n",
    "\n",
    "print(dia, mes, anio)"
   ]
  },
  {
   "cell_type": "markdown",
   "metadata": {},
   "source": [
    "## Ejercicios de Condicionales\n",
    "### Ejercicio 2\n",
    "Escribir un programa que almacene la cadena de caracteres `contraseña` en una variable, pregunte al usuario por la contraseña e imprima por pantalla si la contraseña introducida por el usuario coincide con la guardada en la variable sin tener en cuenta mayúsculas y minúsculas."
   ]
  },
  {
   "cell_type": "code",
   "execution_count": 16,
   "metadata": {},
   "outputs": [
    {
     "name": "stdout",
     "output_type": "stream",
     "text": [
      "No coincide.\n",
      "No coincide.\n",
      "No coincide.\n",
      "No coincide.\n",
      "Coincide.\n"
     ]
    }
   ],
   "source": [
    "password = \"contraseña\"\n",
    "\n",
    "entrada = \"\"\n",
    "\n",
    "while entrada!= password:\n",
    "    print(\"No coincide.\")\n",
    "    entrada = input(\"Contraseña: \")\n",
    "    entrada = entrada.lower()\n",
    "\n",
    "print(\"Coincide.\")      "
   ]
  },
  {
   "cell_type": "markdown",
   "metadata": {},
   "source": [
    "### Ejercicio 6\n",
    "Los alumnos de un curso se han dividido en dos grupos A y B de acuerdo al sexo y el nombre. El grupo A está formado por las mujeres con un nombre anterior a la M y los hombres con un nombre posterior a la N y el grupo B por el resto. Escribir un programa que pregunte al usuario su nombre y sexo, y muestre por pantalla el grupo que le corresponde."
   ]
  },
  {
   "cell_type": "code",
   "execution_count": null,
   "metadata": {},
   "outputs": [],
   "source": [
    "nombre = input(\"Nombre: \")\n",
    "sexo = input(\"Sexo: \")\n",
    "\n",
    "if(nombre.startswith(''))"
   ]
  },
  {
   "cell_type": "markdown",
   "metadata": {},
   "source": [
    "### Ejercicio 7\n",
    "Los tramos impositivos para la declaración de la renta en un determinado país son los siguientes:\n",
    "\n",
    "![title](img/e7.png)\n",
    "\n",
    "Escribir un programa que pregunte al usuario su renta anual y muestre por pantalla el tipo impositivo que le corresponde."
   ]
  },
  {
   "cell_type": "code",
   "execution_count": 6,
   "metadata": {},
   "outputs": [
    {
     "name": "stdout",
     "output_type": "stream",
     "text": [
      "45%\n"
     ]
    }
   ],
   "source": [
    "renta = float(input(\"Renta anual: \"))\n",
    "\n",
    "if renta < 10000:\n",
    "    impositivo = '5%'\n",
    "elif (renta >= 10000 and renta < 20000):\n",
    "    impositivo = '15%'\n",
    "elif (renta >= 20000 and renta < 35000):\n",
    "    impositivo = '20%'\n",
    "elif (renta >= 35000 and renta < 60000):\n",
    "    impositivo = '30%'\n",
    "else:\n",
    "    impositivo = '45%'\n",
    "\n",
    "print(impositivo)"
   ]
  },
  {
   "cell_type": "markdown",
   "metadata": {},
   "source": [
    "### Ejercicio 10\n",
    "La pizzería Bella Napoli ofrece pizzas vegetarianas y no vegetarianas a sus clientes. Los ingredientes para cada tipo de pizza aparecen a continuación.\n",
    "\n",
    "- Ingredientes vegetarianos: Pimiento y tofu.\n",
    "- Ingredientes no vegetarianos: Peperoni, Jamón y Salmón.\n",
    "\n",
    "Escribir un programa que pregunte al usuario si quiere una pizza vegetariana o no, y en función de su respuesta le muestre un menú con los ingredientes disponibles para que elija. Solo se puede eligir un ingrediente además de la mozzarella y el tomate que están en todas la pizzas. Al final se debe mostrar por pantalla si la pizza elegida es vegetariana o no y todos los ingredientes que lleva."
   ]
  },
  {
   "cell_type": "code",
   "execution_count": 11,
   "metadata": {},
   "outputs": [
    {
     "name": "stdout",
     "output_type": "stream",
     "text": [
      "--INGREDIENTES PARA PIZZA VEGETARIANA--\n",
      "1. Pimiento (P)\n",
      "2. Tofu (T)\n",
      "\n",
      "Su tipo de pizza es vegetariana.\n",
      "Los ingredientes que lleva son: mozzarella, tomate y  tofu\n"
     ]
    }
   ],
   "source": [
    "tipo = input(\"¿Desea una pizza vegetariana? (S/N): \").lower()\n",
    "\n",
    "ingreVege = {\n",
    "    'p' : 'pimiento',\n",
    "    't' : 'tofu',\n",
    "}\n",
    "\n",
    "ingreNoVege = {\n",
    "    'p' : 'peperoni',\n",
    "    'j' : 'jamón',\n",
    "    's' : 'salmón',\n",
    "}\n",
    "\n",
    "if 's' in tipo:\n",
    "    print('--INGREDIENTES PARA PIZZA VEGETARIANA--')\n",
    "    print('1. Pimiento (P)')\n",
    "    print('2. Tofu (T)')\n",
    "    ingre = input('Ingrediente a agregar: ')\n",
    "\n",
    "    print('\\nSu tipo de pizza es vegetariana.')\n",
    "    print('Los ingredientes que lleva son: mozzarella, tomate y ', ingreVege[ingre.lower()])\n",
    "\n",
    "else:\n",
    "    print('--INGREDIENTES PARA PIZZA NO VEGETARIANA--')\n",
    "    print('1. Peperoni (P)')\n",
    "    print('2. Jamón (J)')\n",
    "    print('2. Salmón (S)')\n",
    "    ingre = input('Ingrediente a agregar: ')\n",
    "\n",
    "    print('\\nSu tipo de pizza es no vegetariana.')\n",
    "    print('Los ingredientes que lleva son: mozzarella, tomate y ', ingreNoVege[ingre.lower()])"
   ]
  },
  {
   "cell_type": "markdown",
   "metadata": {},
   "source": [
    "## Ejercicios de Bucles\n",
    "### Ejercicio 2\n",
    "Escribir un programa que pregunte al usuario su edad y muestre por pantalla todos los años que ha cumplido (desde 1 hasta su edad)."
   ]
  },
  {
   "cell_type": "code",
   "execution_count": 16,
   "metadata": {},
   "outputs": [
    {
     "name": "stdout",
     "output_type": "stream",
     "text": [
      "1\n",
      "2\n",
      "3\n",
      "4\n"
     ]
    }
   ],
   "source": [
    "edad = int(input('Edad: '))\n",
    "\n",
    "for i in range(edad):\n",
    "    print(i+1)"
   ]
  },
  {
   "cell_type": "markdown",
   "metadata": {},
   "source": [
    "### Ejercicio 3\n",
    "Escribir un programa que pida al usuario un número entero positivo y muestre por pantalla todos los números impares desde 1 hasta ese número separados por comas."
   ]
  },
  {
   "cell_type": "code",
   "execution_count": 45,
   "metadata": {},
   "outputs": [
    {
     "name": "stdout",
     "output_type": "stream",
     "text": [
      "1, 3, 5, 7, 9\n"
     ]
    }
   ],
   "source": [
    "numero = int(input('Entero positivo: '))\n",
    "\n",
    "for i in range(1, numero+1, 2):\n",
    "    if i!=numero:\n",
    "        if i!=numero-1:\n",
    "            print(i, end = ', ')\n",
    "        else:\n",
    "            print(i)\n",
    "    else:\n",
    "        print(i)"
   ]
  },
  {
   "cell_type": "markdown",
   "metadata": {},
   "source": [
    "### Ejercicio 4\n",
    "Escribir un programa que pida al usuario un número entero positivo y muestre por pantalla la cuenta atrás desde ese número hasta cero separados por comas."
   ]
  },
  {
   "cell_type": "code",
   "execution_count": 30,
   "metadata": {},
   "outputs": [
    {
     "name": "stdout",
     "output_type": "stream",
     "text": [
      "10, 9, 8, 7, 6, 5, 4, 3, 2, 1, 0\n"
     ]
    }
   ],
   "source": [
    "numero = int(input('Entero positivo: '))\n",
    "\n",
    "for i in range(numero, -1, -1):\n",
    "    if i!= 0:\n",
    "        print(i, end = ', ')\n",
    "    else:\n",
    "        print(i)\n"
   ]
  },
  {
   "cell_type": "markdown",
   "metadata": {},
   "source": [
    "### Ejercicio 5\n",
    "Escribir un programa que pida al usuario un número entero positivo y muestre por pantalla la cuenta atrás desde ese número hasta cero separados por comas. CORREGIR"
   ]
  }
 ],
 "metadata": {
  "kernelspec": {
   "display_name": "base",
   "language": "python",
   "name": "python3"
  },
  "language_info": {
   "codemirror_mode": {
    "name": "ipython",
    "version": 3
   },
   "file_extension": ".py",
   "mimetype": "text/x-python",
   "name": "python",
   "nbconvert_exporter": "python",
   "pygments_lexer": "ipython3",
   "version": "3.11.7"
  }
 },
 "nbformat": 4,
 "nbformat_minor": 2
}
